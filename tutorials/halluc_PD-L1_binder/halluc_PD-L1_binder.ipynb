{
 "cells": [
  {
   "cell_type": "markdown",
   "metadata": {},
   "source": [
    "# Tutorial: Hallucinating PD-L1 binder\n",
    "Updated 2021-12-24    \n",
    "Jue Wang (juewang@post.harvard.edu)\n",
    "\n",
    "This demonstrates how to use the hallucination script to generate protein-binding proteins.\n",
    "\n",
    "We will scaffold the interfacial strands of PD-1 against its binding target PD-L1, with the goal of generating de novo mimics of PD-1 that may be tested for the ability to bind to PD-L1. To use as a reference structure for the interface motif, we will use 5IUS, a crystal structure of a PD-1 mutant (\"HAC PD-1\") with ultra-high affinity for PD-L1."
   ]
  },
  {
   "cell_type": "code",
   "execution_count": 1,
   "metadata": {},
   "outputs": [],
   "source": [
    "import sys, glob, os, shutil\n",
    "import numpy as np\n",
    "import pandas as pd\n",
    "import seaborn as sns\n",
    "import matplotlib.pyplot as plt\n",
    "%matplotlib inline"
   ]
  },
  {
   "cell_type": "code",
   "execution_count": 2,
   "metadata": {},
   "outputs": [],
   "source": [
    "import warnings\n",
    "warnings.filterwarnings('ignore')"
   ]
  },
  {
   "cell_type": "markdown",
   "metadata": {},
   "source": [
    "## Run 1: Initial hallucination\n",
    "Start by hallucinating some scaffolds for the PD-1 interface motif.\n",
    "\n",
    " - Define the motif as `A63-82` and `A119-140` of 5IUS. These are 2 strand-loop-strand motifs segments that make a beta-sheet that interacts with PD-L1.\n",
    " - We also chose lengths of hallucinated regions (\"gap lengths\") before, between, and after the motifs above. We chose this roughly as a range bracketing the lengths of the same regions in the native protein. These are input, along with the motif residues, as part of the `--mask` argument.\n",
    "     - An alternative approach is to use the `--contigs` and `--len` arguments, which will place the motifs randomly into a hallucinated protein of a specified total length. This usually has a lower success rate than using gap lengths inspired by nature, but may discover novel topologies.\n",
    " - Note all the side chains in the interface motif which interact with (within 5Å and pointing toward) PD-L1. We will keep these amino acids the same as the native with the `--force_aa` option. \n",
    " - Avoid cysteines in the hallucinations to avoid potential problems with expression.\n",
    " - Use a repulsive loss to avoid clashes between the hallucination and the binding target. This will only assess clashes between the backbone atoms of the hallucination (RF does not predict side-chains) and the target, at a user-specified distance. More fine-tuned interactions are built in the next stage (run 2, see below).\n",
    " - Use a radius of gyration loss to discourage long extended helical structures."
   ]
  },
  {
   "cell_type": "markdown",
   "metadata": {},
   "source": [
    "### Generate commands\n",
    "When testing out the script, you can just call it with a simple set of arguments on the commandline, e.g. \n",
    "\n",
    "    ./hallucinate.py --pdb <INPUT.pdb> --mask <MASK> --out <PATH/TO/OUTPUT> \n",
    "    \n",
    "However, for practical production runs it is more convenient to generate the calls to `hallucinate.py` using code so you can have greater control over the arguments, and create many commands for parallel execution on a cluster.\n",
    "\n",
    "The following code generates a list of commands that may be submitted to a cluster workload manager such as SLURM.\n",
    " - working directory is `RFDesign/tutorial/halluc_binder/`\n",
    " - we make 20 total designs (in real applications we make 500-10k designs)\n",
    " - these are split over 4 commands making 5 designs each\n",
    " - the designs are still numbered from 0-19 by using the `--start_num` argument. alternatively you can just give the output filenames a \"batch\" identifier (e.g. `pd1_r1_b01`)\n",
    " - `--track_step 10` outputs a .trk file for each design that contains losses from every 10 steps of gradient descent (or every 100 steps of MCMC)"
   ]
  },
  {
   "cell_type": "code",
   "execution_count": 3,
   "metadata": {},
   "outputs": [
    {
     "name": "stdout",
     "output_type": "stream",
     "text": [
      "source activate SE3; python ../../hallucination/hallucinate.py --pdb=input/pd1.pdb --out=output/run1/pd1_r1 --mask=25-35,A63-82,15-25,A119-140,0-15 --steps=g600 --num=5 --start_num=0 --w_rog=1 --rog_thresh=16 --w_rep 2 --rep_pdb input/pdl1.pdb --rep_sigma 4 --save_pdb=True --track_step 10 &>> output/run1/pd1_r1_0.log\n",
      "source activate SE3; python ../../hallucination/hallucinate.py --pdb=input/pd1.pdb --out=output/run1/pd1_r1 --mask=25-35,A63-82,15-25,A119-140,0-15 --steps=g600 --num=5 --start_num=5 --w_rog=1 --rog_thresh=16 --w_rep 2 --rep_pdb input/pdl1.pdb --rep_sigma 4 --save_pdb=True --track_step 10 &>> output/run1/pd1_r1_5.log\n",
      "source activate SE3; python ../../hallucination/hallucinate.py --pdb=input/pd1.pdb --out=output/run1/pd1_r1 --mask=25-35,A63-82,15-25,A119-140,0-15 --steps=g600 --num=5 --start_num=10 --w_rog=1 --rog_thresh=16 --w_rep 2 --rep_pdb input/pdl1.pdb --rep_sigma 4 --save_pdb=True --track_step 10 &>> output/run1/pd1_r1_10.log\n",
      "source activate SE3; python ../../hallucination/hallucinate.py --pdb=input/pd1.pdb --out=output/run1/pd1_r1 --mask=25-35,A63-82,15-25,A119-140,0-15 --steps=g600 --num=5 --start_num=15 --w_rog=1 --rog_thresh=16 --w_rep 2 --rep_pdb input/pdl1.pdb --rep_sigma 4 --save_pdb=True --track_step 10 &>> output/run1/pd1_r1_15.log\n"
     ]
    }
   ],
   "source": [
    "total_num = 20\n",
    "batch = 5\n",
    "\n",
    "ref_pdb = 'input/pd1.pdb'\n",
    "mask = '25-35,A63-82,15-25,A119-140,0-15' # gap lengths chosen based on corresponding regions in the native protein\n",
    "force_aa = 'A64,A66,A68,A70,A73-81,A123-124,A127,A128,A132-136,A139'\n",
    "\n",
    "run_name = 'pd1_r1'\n",
    "outdir = 'output/run1/'\n",
    "os.makedirs(outdir, exist_ok=True)\n",
    "\n",
    "for istart in np.arange(0, total_num, batch):\n",
    "    cmd = f'source activate SE3; python ../../hallucination/hallucinate.py --pdb={ref_pdb} --out={outdir}{run_name} '\\\n",
    "          f'--mask={mask} --steps=g600 --num={batch} --start_num={istart} '\\\n",
    "          f'--w_rog=1 --rog_thresh=16 --w_rep 2 --rep_pdb input/pdl1.pdb --rep_sigma 4 '\\\n",
    "          f'--save_pdb=True --track_step 10 '\\\n",
    "          f'&>> {outdir}{run_name}_{istart}.log'\n",
    "    print(cmd)"
   ]
  },
  {
   "cell_type": "markdown",
   "metadata": {},
   "source": [
    "We put these commands into a file `r1.list` and ran it as an array job on SLURM using \n",
    "    \n",
    "    ./gpu_submit.sh r1.list\n",
    "    \n",
    "When the run is done, let's add sidechains and relax the structures (this only works on the IPD digs cluster, but you can adapt the underlying code for your system):\n",
    "\n",
    "    ../../scripts/trfold_relax.sh output/run1/\n"
   ]
  },
  {
   "cell_type": "markdown",
   "metadata": {},
   "source": [
    "### Score outputs\n",
    "Compute AlphaFold2 predictions and their RMSDs against the native pdb and the hallucination design model. (This can also be run on a cpu, although it will be slower and therefore large scoring runs should be split into batches of ~100 outputs). \n",
    "\n",
    "    sbatch -p gpu -c 2 --mem 12g --gres gpu:rtx2080:1 --wrap \"../../scripts/af2_metrics.py output/run1/trf_relax/\"\n",
    "    \n",
    "Compute RMSDs between hallucination models and native PDB, along with radius of gyration, secondary structure, etc.\n",
    "\n",
    "    sbatch --mem 2g --wrap \"../../scripts/pyrosetta_metrics.py output/run1/trf_relax/\"\n",
    "\n",
    "Compile all metrics into a single csv (and add some additional metrics, such as rosetta energy, from pdb files).\n",
    "\n",
    "    ../../scripts/compile_metrics.py output/run1/trf_relax/"
   ]
  },
  {
   "cell_type": "markdown",
   "metadata": {},
   "source": [
    "### Analyze outputs\n",
    "Load the metrics, visualize their distributions, and choose hits for followup"
   ]
  },
  {
   "cell_type": "code",
   "execution_count": 4,
   "metadata": {},
   "outputs": [],
   "source": [
    "df = pd.read_csv('output/run1/trf_relax/combined_metrics.csv')\n",
    "df['folder'] = 'output/run1/trf_relax/'"
   ]
  },
  {
   "cell_type": "code",
   "execution_count": 5,
   "metadata": {},
   "outputs": [],
   "source": [
    "df['score_res'] = df['rosetta_energy']/df['len'] # rosetta energy / residue"
   ]
  },
  {
   "cell_type": "code",
   "execution_count": 6,
   "metadata": {},
   "outputs": [
    {
     "data": {
      "text/plain": [
       "(20, 25)"
      ]
     },
     "execution_count": 6,
     "metadata": {},
     "output_type": "execute_result"
    }
   ],
   "source": [
    "df.shape"
   ]
  },
  {
   "cell_type": "code",
   "execution_count": 7,
   "metadata": {},
   "outputs": [
    {
     "data": {
      "text/plain": [
       "Index(['Unnamed: 0', 'name', 'rosetta_energy', 'loss_tot', 'loss_cce',\n",
       "       'loss_entropy', 'loss_rep', 'loss_rog', 'contig_rmsd', 'contig_sc_rmsd',\n",
       "       'rog', 'len', 'seq', 'net_charge', 'ss', 'topology', 'ss_strand_frac',\n",
       "       'ss_helix_frac', 'ss_loop_frac', 'af2_lddt', 'rmsd_af2_des',\n",
       "       'contig_rmsd_af2_des', 'contig_rmsd_af2', 'folder', 'score_res'],\n",
       "      dtype='object')"
      ]
     },
     "execution_count": 7,
     "metadata": {},
     "output_type": "execute_result"
    }
   ],
   "source": [
    "df.columns"
   ]
  },
  {
   "cell_type": "code",
   "execution_count": 8,
   "metadata": {},
   "outputs": [
    {
     "data": {
      "image/png": "[encoded data removed]",
      "text/plain": [
       "<Figure size 576x180 with 2 Axes>"
      ]
     },
     "metadata": {
      "needs_background": "light"
     },
     "output_type": "display_data"
    }
   ],
   "source": [
    "fig,axes = plt.subplots(1,2,figsize=(8,2.5))\n",
    "for ax,metric in zip(axes.flat, ['af2_lddt','contig_rmsd_af2','rog']):\n",
    "    sns.distplot(df[metric],ax=ax)"
   ]
  },
  {
   "cell_type": "markdown",
   "metadata": {},
   "source": [
    "Filter on predicted lddt (a measure of overall scaffold quality), motif (\"contig\") rmsd between AF2 prediction and native, and radius of gyration. There are several other metrics we will eventually filter on, but at this stage only these metrics are important.\n",
    "\n",
    "In practice we are looking for af2_lddt > 80 and contig_rmsd_af2 < 1 (ideally closer to 0.5). However, in 20 outputs we are unlikely to obtain designs this good, so lower the thresholds until we get at least one design, so we can continue demonstrating the pipeline."
   ]
  },
  {
   "cell_type": "code",
   "execution_count": 9,
   "metadata": {},
   "outputs": [],
   "source": [
    "hits = df[(df['af2_lddt']>60) & (df['contig_rmsd_af2']<1.5) & (df['rog']<16)]"
   ]
  },
  {
   "cell_type": "code",
   "execution_count": 10,
   "metadata": {},
   "outputs": [
    {
     "data": {
      "text/plain": [
       "(2, 25)"
      ]
     },
     "execution_count": 10,
     "metadata": {},
     "output_type": "execute_result"
    }
   ],
   "source": [
    "hits.shape"
   ]
  },
  {
   "cell_type": "code",
   "execution_count": 11,
   "metadata": {},
   "outputs": [
    {
     "data": {
      "text/html": [
       "<div>\n",
       "<style scoped>\n",
       "    .dataframe tbody tr th:only-of-type {\n",
       "        vertical-align: middle;\n",
       "    }\n",
       "\n",
       "    .dataframe tbody tr th {\n",
       "        vertical-align: top;\n",
       "    }\n",
       "\n",
       "    .dataframe thead th {\n",
       "        text-align: right;\n",
       "    }\n",
       "</style>\n",
       "<table border=\"1\" class=\"dataframe\">\n",
       "  <thead>\n",
       "    <tr style=\"text-align: right;\">\n",
       "      <th></th>\n",
       "      <th>name</th>\n",
       "      <th>af2_lddt</th>\n",
       "      <th>contig_rmsd_af2</th>\n",
       "      <th>rog</th>\n",
       "    </tr>\n",
       "  </thead>\n",
       "  <tbody>\n",
       "    <tr>\n",
       "      <th>0</th>\n",
       "      <td>pd1_r1_10</td>\n",
       "      <td>68.990048</td>\n",
       "      <td>1.411484</td>\n",
       "      <td>13.841383</td>\n",
       "    </tr>\n",
       "    <tr>\n",
       "      <th>19</th>\n",
       "      <td>pd1_r1_13</td>\n",
       "      <td>66.387940</td>\n",
       "      <td>1.452760</td>\n",
       "      <td>13.097704</td>\n",
       "    </tr>\n",
       "  </tbody>\n",
       "</table>\n",
       "</div>"
      ],
      "text/plain": [
       "         name   af2_lddt  contig_rmsd_af2        rog\n",
       "0   pd1_r1_10  68.990048         1.411484  13.841383\n",
       "19  pd1_r1_13  66.387940         1.452760  13.097704"
      ]
     },
     "execution_count": 11,
     "metadata": {},
     "output_type": "execute_result"
    }
   ],
   "source": [
    "hits[['name','af2_lddt','contig_rmsd_af2','rog']]"
   ]
  },
  {
   "cell_type": "markdown",
   "metadata": {},
   "source": [
    "Copy the hits to their own folder so we can look through them manually and use them as the basis of additional iterations of design."
   ]
  },
  {
   "cell_type": "code",
   "execution_count": 12,
   "metadata": {},
   "outputs": [],
   "source": [
    "import shutil"
   ]
  },
  {
   "cell_type": "code",
   "execution_count": 13,
   "metadata": {},
   "outputs": [],
   "source": [
    "outdir = 'output/hits_r1/'\n",
    "os.makedirs(outdir, exist_ok=True)\n",
    "os.makedirs(outdir+'af2/', exist_ok=True)"
   ]
  },
  {
   "cell_type": "code",
   "execution_count": 14,
   "metadata": {},
   "outputs": [],
   "source": [
    "for i,row in hits.iterrows():\n",
    "    shutil.copyfile(row['folder']+'/'+row['name']+'.pdb', outdir+row['name']+'.pdb')  \n",
    "    shutil.copyfile(row['folder']+'af2/'+row['name']+'.pdb', outdir+'af2/'+row['name']+'_af2pred.pdb')    # copy af2 model\n",
    "    shutil.copyfile(row['folder']+'../'+row['name']+'.trb', outdir+row['name']+'.trb')    \n",
    "    shutil.copyfile(row['folder']+'../'+row['name']+'.fas', outdir+row['name']+'.fas')    "
   ]
  },
  {
   "cell_type": "code",
   "execution_count": 15,
   "metadata": {},
   "outputs": [],
   "source": [
    "hits.to_csv(outdir+'metrics.csv')"
   ]
  },
  {
   "cell_type": "markdown",
   "metadata": {},
   "source": [
    "Align the hits to the native structure and generate a pymol session, so we can inspect them visually.\n",
    "\n",
    "    ../../scripts/pymol_align.py --template input/pd1.pdb --receptor input/pdl1.pdb --out output/hits_r1/aligned.pse output/hits_r1/*pdb"
   ]
  },
  {
   "cell_type": "markdown",
   "metadata": {},
   "source": [
    "## Run 2: 2-chain hallucination\n",
    "Here will will take the hits from run 1 and optimize them further by MCMC in the context of the binding target.\n",
    " - On each step, RoseTTAFold will predict the structure of the complex of hallucinated protein and PD-L1 (input to `--receptor` argument). This will allow the method to fine-tune the interface between the proteins and build additional interactions. Only hallucinated binder positions will be mutated -- the binding target will remain its native sequence throughout the trajectory.\n",
    " - To save GPU memory, we truncated the PD-L1 structure to 1 domain which interacts with PD-1.\n",
    " - We use MCMC instead of gradient descent because it uses less GPU memory, and we don't need that many steps of optimization.\n",
    " - We do not use the repulsion loss, as we are directly modeling the binding target.\n",
    " - `--spike` and `--spike_fas` tell the script to initialize the hallucination with an existing sequence.\n",
    " - `--mask` is used to set the size of hallucinated regions (and therefore the placement of the constrained motif region) exactly as in the parent design.\n",
    " - `--use_template` sets up a template input to RoseTTAFold containing the relative transform of the interface motif with respect to the binding target, to make sure the hallucination is being modeled in the correct position relative to PD-L1. A template input is always automatically given for the binding target."
   ]
  },
  {
   "cell_type": "code",
   "execution_count": 16,
   "metadata": {},
   "outputs": [
    {
     "name": "stdout",
     "output_type": "stream",
     "text": [
      "source activate SE3; python ../../hallucination/hallucinate.py --pdb=input/pd1.pdb --out=output/run2/pd1_r1_10_r2 --steps m300 --num=5 --start_num=0 --mask 29-29,A63-82,16-16,A119-140,7-7 --use_template A63-82,A119-140 --spike_fas output/hits_r1/pd1_r1_10.fas --spike 0.999 --force_aa A64,A66,A68,A70,A73-81,A123-124,A127,A128,A132-136,A139 --exclude_aa C --receptor input/pdl1_trunc.pdb --rec_placement second --w_rog=1 --rog_thresh=16 --save_pdb=True --track_step 1 &>> output/run2/pd1_r1_10_r2_0.log\n",
      "source activate SE3; python ../../hallucination/hallucinate.py --pdb=input/pd1.pdb --out=output/run2/pd1_r1_13_r2 --steps m300 --num=5 --start_num=0 --mask 27-27,A63-82,21-21,A119-140,3-3 --use_template A63-82,A119-140 --spike_fas output/hits_r1/pd1_r1_13.fas --spike 0.999 --force_aa A64,A66,A68,A70,A73-81,A123-124,A127,A128,A132-136,A139 --exclude_aa C --receptor input/pdl1_trunc.pdb --rec_placement second --w_rog=1 --rog_thresh=16 --save_pdb=True --track_step 1 &>> output/run2/pd1_r1_13_r2_0.log\n",
      "source activate SE3; python ../../hallucination/hallucinate.py --pdb=input/pd1.pdb --out=output/run2/pd1_r1_10_r2 --steps m300 --num=5 --start_num=5 --mask 29-29,A63-82,16-16,A119-140,7-7 --use_template A63-82,A119-140 --spike_fas output/hits_r1/pd1_r1_10.fas --spike 0.999 --force_aa A64,A66,A68,A70,A73-81,A123-124,A127,A128,A132-136,A139 --exclude_aa C --receptor input/pdl1_trunc.pdb --rec_placement second --w_rog=1 --rog_thresh=16 --save_pdb=True --track_step 1 &>> output/run2/pd1_r1_10_r2_5.log\n",
      "source activate SE3; python ../../hallucination/hallucinate.py --pdb=input/pd1.pdb --out=output/run2/pd1_r1_13_r2 --steps m300 --num=5 --start_num=5 --mask 27-27,A63-82,21-21,A119-140,3-3 --use_template A63-82,A119-140 --spike_fas output/hits_r1/pd1_r1_13.fas --spike 0.999 --force_aa A64,A66,A68,A70,A73-81,A123-124,A127,A128,A132-136,A139 --exclude_aa C --receptor input/pdl1_trunc.pdb --rec_placement second --w_rog=1 --rog_thresh=16 --save_pdb=True --track_step 1 &>> output/run2/pd1_r1_13_r2_5.log\n"
     ]
    }
   ],
   "source": [
    "total_num = 10 # number of designs per parent design\n",
    "batch = 5\n",
    "\n",
    "ref_pdb = 'input/pd1.pdb'\n",
    "receptor = 'input/pdl1_trunc.pdb'\n",
    "force_aa = 'A64,A66,A68,A70,A73-81,A123-124,A127,A128,A132-136,A139'\n",
    "parent_designs = glob.glob('output/hits_r1/*pdb')\n",
    "\n",
    "run = 'r2'\n",
    "outdir = 'output/run2/'\n",
    "os.makedirs(outdir, exist_ok=True)\n",
    "\n",
    "for istart in np.arange(0, total_num, batch):\n",
    "    for fn in parent_designs:\n",
    "        name = os.path.basename(fn.replace('.pdb',''))\n",
    "        \n",
    "        trb = np.load(fn.replace('.pdb','.trb'),allow_pickle=True) # metadata about parent design\n",
    "        mask = trb['sampled_mask']\n",
    "        contigs = ','.join([x for x in trb['sampled_mask'].split(',') if x[0]=='A'])\n",
    "        run_name = name+'_'+run\n",
    "        \n",
    "        cmd = f'source activate SE3; python ../../hallucination/hallucinate.py '\\\n",
    "              f'--pdb={ref_pdb} --out={outdir}{run_name} '\\\n",
    "              f'--steps m300 --num={batch} --start_num={istart} '\\\n",
    "              f'--mask {mask} --use_template {contigs} '\\\n",
    "              f'--spike_fas {fn.replace(\".pdb\",\".fas\")} --spike 0.999 '\\\n",
    "              f'--force_aa {force_aa} --exclude_aa C '\\\n",
    "              f'--receptor {receptor} --rec_placement second '\\\n",
    "              f'--w_rog=1 --rog_thresh=16 '\\\n",
    "              f'--save_pdb=True --track_step 1 '\\\n",
    "              f'&>> {outdir}{run_name}_{istart}.log'\n",
    "\n",
    "        print(cmd)"
   ]
  },
  {
   "cell_type": "markdown",
   "metadata": {},
   "source": [
    "We put these commands into a file `r2.list` and ran it as an array job on SLURM using \n",
    "    \n",
    "    ./gpu_submit.sh r2.list\n",
    "    \n",
    "When the run is done, make models (this command works on both monomer and 2-chain hallucination outputs):\n",
    "\n",
    "    ../../scripts/trfold_relax.sh output/run2/\n"
   ]
  },
  {
   "cell_type": "markdown",
   "metadata": {},
   "source": [
    "### Score outputs\n",
    "Calculate Rosetta interface metrics:\n",
    "\n",
    "    sbatch --mem 5g --wrap \"../../scripts/get_interface_metrics.py output/run2/trf_relax/\"\n",
    "\n",
    "Extract chain A to compute monomer metrics:\n",
    "\n",
    "    ~/git/public_rfdesign/scripts/extract_chainA_pdb_only.py output/run2/trf_relax/\n",
    "\n",
    "Compute AF2 metrics on monomer:\n",
    "\n",
    "    sbatch -p gpu -c 2 --mem 12g --gres gpu:rtx2080:1 --wrap \"../../scripts/af2_metrics.py --trb_dir output/run2/ output/run2/trf_relax/chainA/\"\n",
    "    \n",
    "Compute other metrics on monomer:\n",
    "\n",
    "    sbatch --mem 5g --wrap \"../../scripts/pyrosetta_metrics.py --trb_dir output/run2/ output/run2/trf_relax/chainA/\"\n",
    "    \n",
    "Compile monomer metrics (interface metrics will have to be loaded separately):\n",
    "\n",
    "    ../../scripts/compile_metrics.py output/run2/trf_relax/chainA/"
   ]
  },
  {
   "cell_type": "markdown",
   "metadata": {},
   "source": [
    "### Plot score distributions"
   ]
  },
  {
   "cell_type": "code",
   "execution_count": 29,
   "metadata": {},
   "outputs": [],
   "source": [
    "df = pd.read_csv('output/run2/trf_relax/chainA/combined_metrics.csv')\n",
    "df['folder'] = 'output/run2/trf_relax/'"
   ]
  },
  {
   "cell_type": "code",
   "execution_count": 30,
   "metadata": {},
   "outputs": [],
   "source": [
    "tmp = pd.read_csv('output/run2/trf_relax/interface_metrics.csv')\n",
    "df = df.merge(tmp,on='name')"
   ]
  },
  {
   "cell_type": "code",
   "execution_count": 31,
   "metadata": {},
   "outputs": [],
   "source": [
    "df['score_res'] = df['rosetta_energy']/df['len'] # rosetta energy / residue"
   ]
  },
  {
   "cell_type": "code",
   "execution_count": 32,
   "metadata": {},
   "outputs": [
    {
     "data": {
      "text/plain": [
       "(20, 38)"
      ]
     },
     "execution_count": 32,
     "metadata": {},
     "output_type": "execute_result"
    }
   ],
   "source": [
    "df.shape"
   ]
  },
  {
   "cell_type": "code",
   "execution_count": 37,
   "metadata": {},
   "outputs": [
    {
     "data": {
      "image/png": "[encoded data removed]",
      "text/plain": [
       "<Figure size 1008x180 with 4 Axes>"
      ]
     },
     "metadata": {
      "needs_background": "light"
     },
     "output_type": "display_data"
    }
   ],
   "source": [
    "fig,axes = plt.subplots(1,4,figsize=(14,2.5))\n",
    "plt.subplots_adjust(wspace=0.4)\n",
    "for ax,metric in zip(axes.flat, ['af2_lddt','contig_rmsd_af2','ddg','contact_molecular_surface']):\n",
    "    sns.distplot(df[metric],ax=ax)"
   ]
  },
  {
   "cell_type": "markdown",
   "metadata": {},
   "source": [
    "The `ddg` values look ok (although `< 40` would be ideal), but in practice we would only want to proceed with designs that have `af2_lddt > 80` and `contig_rmsd_af2 < 1`, so this will probably require more design trajectories or adjustments to the design procedure to yield successful designs."
   ]
  },
  {
   "cell_type": "markdown",
   "metadata": {},
   "source": [
    "Copy the 2-chain pdbs of a subset of designs to their own folder so we can look through them manually."
   ]
  },
  {
   "cell_type": "code",
   "execution_count": 46,
   "metadata": {},
   "outputs": [],
   "source": [
    "hits = df[(df['af2_lddt']>50) & (df['contig_rmsd_af2']<3) & (df['ddg']<-0) & (df['rog']<16)]"
   ]
  },
  {
   "cell_type": "code",
   "execution_count": 47,
   "metadata": {},
   "outputs": [
    {
     "data": {
      "text/plain": [
       "(4, 38)"
      ]
     },
     "execution_count": 47,
     "metadata": {},
     "output_type": "execute_result"
    }
   ],
   "source": [
    "hits.shape"
   ]
  },
  {
   "cell_type": "code",
   "execution_count": 48,
   "metadata": {},
   "outputs": [
    {
     "data": {
      "text/html": [
       "<div>\n",
       "<style scoped>\n",
       "    .dataframe tbody tr th:only-of-type {\n",
       "        vertical-align: middle;\n",
       "    }\n",
       "\n",
       "    .dataframe tbody tr th {\n",
       "        vertical-align: top;\n",
       "    }\n",
       "\n",
       "    .dataframe thead th {\n",
       "        text-align: right;\n",
       "    }\n",
       "</style>\n",
       "<table border=\"1\" class=\"dataframe\">\n",
       "  <thead>\n",
       "    <tr style=\"text-align: right;\">\n",
       "      <th></th>\n",
       "      <th>name</th>\n",
       "      <th>af2_lddt</th>\n",
       "      <th>contig_rmsd_af2</th>\n",
       "      <th>rog</th>\n",
       "    </tr>\n",
       "  </thead>\n",
       "  <tbody>\n",
       "    <tr>\n",
       "      <th>1</th>\n",
       "      <td>pd1_r1_10_r2_7</td>\n",
       "      <td>60.677755</td>\n",
       "      <td>2.407936</td>\n",
       "      <td>13.102960</td>\n",
       "    </tr>\n",
       "    <tr>\n",
       "      <th>3</th>\n",
       "      <td>pd1_r1_13_r2_3</td>\n",
       "      <td>61.566044</td>\n",
       "      <td>2.095542</td>\n",
       "      <td>13.720426</td>\n",
       "    </tr>\n",
       "    <tr>\n",
       "      <th>13</th>\n",
       "      <td>pd1_r1_10_r2_2</td>\n",
       "      <td>62.801272</td>\n",
       "      <td>2.435110</td>\n",
       "      <td>13.612458</td>\n",
       "    </tr>\n",
       "    <tr>\n",
       "      <th>18</th>\n",
       "      <td>pd1_r1_13_r2_0</td>\n",
       "      <td>53.432729</td>\n",
       "      <td>1.841668</td>\n",
       "      <td>13.341301</td>\n",
       "    </tr>\n",
       "  </tbody>\n",
       "</table>\n",
       "</div>"
      ],
      "text/plain": [
       "              name   af2_lddt  contig_rmsd_af2        rog\n",
       "1   pd1_r1_10_r2_7  60.677755         2.407936  13.102960\n",
       "3   pd1_r1_13_r2_3  61.566044         2.095542  13.720426\n",
       "13  pd1_r1_10_r2_2  62.801272         2.435110  13.612458\n",
       "18  pd1_r1_13_r2_0  53.432729         1.841668  13.341301"
      ]
     },
     "execution_count": 48,
     "metadata": {},
     "output_type": "execute_result"
    }
   ],
   "source": [
    "hits[['name','af2_lddt','contig_rmsd_af2','rog']]"
   ]
  },
  {
   "cell_type": "code",
   "execution_count": 49,
   "metadata": {},
   "outputs": [],
   "source": [
    "import shutil"
   ]
  },
  {
   "cell_type": "code",
   "execution_count": 50,
   "metadata": {},
   "outputs": [],
   "source": [
    "outdir = 'output/hits_r2/'\n",
    "os.makedirs(outdir, exist_ok=True)\n",
    "os.makedirs(outdir+'af2/', exist_ok=True)"
   ]
  },
  {
   "cell_type": "code",
   "execution_count": 53,
   "metadata": {},
   "outputs": [],
   "source": [
    "for i,row in hits.iterrows():\n",
    "    shutil.copyfile(row['folder']+'/'+row['name']+'.pdb', outdir+row['name']+'.pdb')  \n",
    "    shutil.copyfile(row['folder']+'../'+row['name']+'.trb', outdir+row['name']+'.trb')    \n",
    "    shutil.copyfile(row['folder']+'../'+row['name']+'.fas', outdir+row['name']+'.fas')    "
   ]
  },
  {
   "cell_type": "code",
   "execution_count": 54,
   "metadata": {},
   "outputs": [],
   "source": [
    "hits.to_csv(outdir+'metrics.csv')"
   ]
  },
  {
   "cell_type": "markdown",
   "metadata": {},
   "source": [
    "Align the hits to the native structure and generate a pymol session, so we can inspect them visually. The `pymol_align.py` doesn't support aligning 2-chain designs to the reference yet, but we can do it semi-manually by generating some commands to paste into pymol."
   ]
  },
  {
   "cell_type": "markdown",
   "metadata": {},
   "source": [
    "Start a blank pymol session in this working directory and use these commands to load the reference pdbs and the hits."
   ]
  },
  {
   "cell_type": "code",
   "execution_count": 55,
   "metadata": {},
   "outputs": [
    {
     "name": "stdout",
     "output_type": "stream",
     "text": [
      "load input/pd1.pdb\n",
      "load input/pdl1.pdb\n",
      "load output/hits_r2/pd1_r1_10_r2_2.pdb\n",
      "load output/hits_r2/pd1_r1_13_r2_0.pdb\n",
      "load output/hits_r2/pd1_r1_13_r2_3.pdb\n",
      "load output/hits_r2/pd1_r1_10_r2_7.pdb\n"
     ]
    }
   ],
   "source": [
    "print(f'load input/pd1.pdb')\n",
    "print(f'load input/pdl1.pdb')\n",
    "for fn in glob.glob('output/hits_r2/*pdb'):\n",
    "    print(f'load {fn}')"
   ]
  },
  {
   "cell_type": "markdown",
   "metadata": {},
   "source": [
    "Generate commands to superimpose hallucination complexes on native complex by the motif and binding target coordinates. This uses some utility functions for manipulating chain and residue indices."
   ]
  },
  {
   "cell_type": "code",
   "execution_count": 58,
   "metadata": {},
   "outputs": [],
   "source": [
    "sys.path.append('../..//hallucination/util/')\n",
    "from contigs import SampledMask # a utility for mapping residue numbers between reference and hallucination"
   ]
  },
  {
   "cell_type": "code",
   "execution_count": 60,
   "metadata": {},
   "outputs": [],
   "source": [
    "def contig_str_to_pymol_str(contig_str):\n",
    "    '''Converts something like \"A1-5,A30-32\" into \"1-5+30-32\" '''\n",
    "    return '+'.join([x[1:] for x in contig_str.split(',')])"
   ]
  },
  {
   "cell_type": "code",
   "execution_count": 68,
   "metadata": {},
   "outputs": [
    {
     "name": "stdout",
     "output_type": "stream",
     "text": [
      "sele pd1_r1_10_r2_2_motif, /pd1_r1_10_r2_2//A/30-49+66-87\n",
      "pair_fit /pd1_r1_10_r2_2//A/30-49+66-87/CA, /pd1//A/63-82+119-140/CA, /pd1_r1_10_r2_2//B/18-130/CA, /pdl1//C/18-130/CA\n",
      "sele pd1_r1_10_r2_7_motif, /pd1_r1_10_r2_7//A/30-49+66-87\n",
      "pair_fit /pd1_r1_10_r2_7//A/30-49+66-87/CA, /pd1//A/63-82+119-140/CA, /pd1_r1_10_r2_7//B/18-130/CA, /pdl1//C/18-130/CA\n",
      "sele pd1_r1_13_r2_0_motif, /pd1_r1_13_r2_0//A/28-47+69-90\n",
      "pair_fit /pd1_r1_13_r2_0//A/28-47+69-90/CA, /pd1//A/63-82+119-140/CA, /pd1_r1_13_r2_0//B/18-130/CA, /pdl1//C/18-130/CA\n",
      "sele pd1_r1_13_r2_3_motif, /pd1_r1_13_r2_3//A/28-47+69-90\n",
      "pair_fit /pd1_r1_13_r2_3//A/28-47+69-90/CA, /pd1//A/63-82+119-140/CA, /pd1_r1_13_r2_3//B/18-130/CA, /pdl1//C/18-130/CA\n",
      "sele pd1_motif, /pd1//A/63-82+119-140\n"
     ]
    }
   ],
   "source": [
    "for fn in sorted(glob.glob('output/hits_r2/*trb')):\n",
    "    name = os.path.basename(fn).replace('.trb','')\n",
    "    trb = np.load(fn,allow_pickle=True)\n",
    "    \n",
    "    i_binder = [i for i,idx in enumerate(trb['con_ref_pdb_idx']) if idx[0]!='R']\n",
    "    i_receptor = [i for i,idx in enumerate(trb['con_ref_pdb_idx']) if idx[0]=='R']\n",
    "\n",
    "    idx_binder_ref = [idx for i,idx in enumerate(trb['con_ref_pdb_idx']) if i in i_binder]\n",
    "    idx_binder_hal = [idx for i,idx in enumerate(trb['con_hal_pdb_idx']) if i in i_binder]\n",
    "    ref_str = SampledMask.contract(idx_binder_ref)\n",
    "    hal_str = SampledMask.contract(idx_binder_hal)\n",
    "    binder_str = f'/{name}//{hal_str[0]}/{contig_str_to_pymol_str(hal_str)}/CA, '\\\n",
    "                 f'/pd1//{ref_str[0]}/{contig_str_to_pymol_str(ref_str)}/CA'\n",
    "    print(f'sele {name}_motif, /{name}//{hal_str[0]}/{contig_str_to_pymol_str(hal_str)}') # create selection for the hallucinated linear motif\n",
    "\n",
    "    idx_receptor_ref = [('C',idx[1]) for i,idx in enumerate(trb['con_ref_pdb_idx']) if i in i_receptor]\n",
    "    idx_receptor_hal = [('B',idx[1]) for idx in trb['receptor_pdb_idx']]\n",
    "    ref_str = SampledMask.contract(idx_receptor_ref)\n",
    "    hal_str = SampledMask.contract(idx_receptor_hal)\n",
    "    receptor_str = f'/{name}//{hal_str[0]}/{contig_str_to_pymol_str(hal_str)}/CA, '\\\n",
    "                   f'/pdl1//{ref_str[0]}/{contig_str_to_pymol_str(ref_str)}/CA'\n",
    "\n",
    "    print(f'pair_fit {binder_str}, {receptor_str}') # superimpose hallucination on reference structure\n",
    "\n",
    "idx_binder_ref = [idx for i,idx in enumerate(trb['con_ref_pdb_idx']) if i in i_binder]\n",
    "ref_str = SampledMask.contract(idx_binder_ref)\n",
    "print(f'sele pd1_motif, /pd1//A/{contig_str_to_pymol_str(ref_str)}') # create selection for the hallucinated linear motif\n"
   ]
  },
  {
   "cell_type": "markdown",
   "metadata": {},
   "source": [
    "Some cosmetic adjustments in pymol:\n",
    "\n",
    "    color marine, pdl1\n",
    "    color gray80, pd1_*\n",
    "    color purple, pd1_*motif\n",
    "    color paleyellow, pd1\n",
    "    color brightorange, pd1_motif\n",
    "    \n",
    "The final pymol session is saved in `output/hits_run2/aligned.pse`"
   ]
  },
  {
   "cell_type": "markdown",
   "metadata": {},
   "source": [
    "As we saw from the filters, these designs don't quite pass the eye test for backbone quality or motif accuracy. But with 10-100x more sampling, it is usually possible to find designs with good in silico metrics, as well as activity in experimental assays."
   ]
  },
  {
   "cell_type": "code",
   "execution_count": null,
   "metadata": {},
   "outputs": [],
   "source": []
  }
 ],
 "metadata": {
  "kernelspec": {
   "display_name": "SE3 (Python 3.8.2)",
   "language": "python",
   "name": "se3"
  },
  "language_info": {
   "codemirror_mode": {
    "name": "ipython",
    "version": 3
   },
   "file_extension": ".py",
   "mimetype": "text/x-python",
   "name": "python",
   "nbconvert_exporter": "python",
   "pygments_lexer": "ipython3",
   "version": "3.8.2"
  }
 },
 "nbformat": 4,
 "nbformat_minor": 4
}
